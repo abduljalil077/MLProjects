{
 "cells": [
  {
   "cell_type": "code",
   "execution_count": 4,
   "id": "0cf42f5f",
   "metadata": {},
   "outputs": [],
   "source": [
    "from sklearn.datasets import load_boston\n",
    "from sklearn.linear_model import LinearRegression\n",
    "from sklearn.metrics import mean_squared_error\n",
    "import pandas as pd\n",
    "import numpy as np"
   ]
  },
  {
   "cell_type": "code",
   "execution_count": 5,
   "id": "7b5aab79",
   "metadata": {},
   "outputs": [
    {
     "data": {
      "text/plain": [
       "(506, 11)"
      ]
     },
     "execution_count": 5,
     "metadata": {},
     "output_type": "execute_result"
    }
   ],
   "source": [
    "# Gather Data\n",
    "\n",
    "boston_dataset = load_boston()\n",
    "data = pd.DataFrame(data=boston_dataset.data, columns=boston_dataset.feature_names)\n",
    "features = data.drop(['INDUS','AGE'], axis=1)\n",
    "features.head()\n",
    "\n",
    "log_prices = np.log(boston_dataset.target)\n",
    "features.shape"
   ]
  },
  {
   "cell_type": "code",
   "execution_count": 6,
   "id": "031e6379",
   "metadata": {},
   "outputs": [
    {
     "data": {
      "text/plain": [
       "(506, 1)"
      ]
     },
     "execution_count": 6,
     "metadata": {},
     "output_type": "execute_result"
    }
   ],
   "source": [
    "target = pd.DataFrame(log_prices, columns=['PRICE'])\n",
    "target.shape"
   ]
  },
  {
   "cell_type": "code",
   "execution_count": 13,
   "id": "8cf85f65",
   "metadata": {},
   "outputs": [
    {
     "data": {
      "text/plain": [
       "array([[3.61352356e+00, 1.13636364e+01, 6.91699605e-02, 5.54695059e-01,\n",
       "        6.28463439e+00, 3.79504269e+00, 9.54940711e+00, 4.08237154e+02,\n",
       "        1.84555336e+01, 3.56674032e+02, 1.26530632e+01]])"
      ]
     },
     "execution_count": 13,
     "metadata": {},
     "output_type": "execute_result"
    }
   ],
   "source": [
    "CRIME_IDX = 0\n",
    "ZN_IDX = 1\n",
    "CHAS_IDX = 2\n",
    "RM_IDX = 4\n",
    "PTRATIO_IDX = 8\n",
    "\n",
    "#property_stats = np.ndarray(shape=(1,11))\n",
    "#property_stats[0][CRIME_IDX] = features['CRIM'].mean()\n",
    "#property_stats[0][ZN_IDX] = features['ZN'].mean()\n",
    "#property_stats[0][CHAS_IDX] = features['CHAS'].mean()\n",
    "\n",
    "property_stats = features.mean().values.reshape(1,11)\n",
    "property_stats\n",
    "#type(property_stats)"
   ]
  },
  {
   "cell_type": "code",
   "execution_count": 14,
   "id": "ca66c371",
   "metadata": {},
   "outputs": [
    {
     "data": {
      "text/plain": [
       "pandas.core.series.Series"
      ]
     },
     "execution_count": 14,
     "metadata": {},
     "output_type": "execute_result"
    }
   ],
   "source": [
    "type(features.mean())"
   ]
  },
  {
   "cell_type": "code",
   "execution_count": 15,
   "id": "f11bd74b",
   "metadata": {},
   "outputs": [
    {
     "data": {
      "text/plain": [
       "array([[3.61352356e+00, 1.13636364e+01, 6.91699605e-02, 5.54695059e-01,\n",
       "        6.28463439e+00, 3.79504269e+00, 9.54940711e+00, 4.08237154e+02,\n",
       "        1.84555336e+01, 3.56674032e+02, 1.26530632e+01]])"
      ]
     },
     "execution_count": 15,
     "metadata": {},
     "output_type": "execute_result"
    }
   ],
   "source": [
    "features.mean().values.reshape(1,11)"
   ]
  },
  {
   "cell_type": "code",
   "execution_count": 37,
   "id": "4763de5f",
   "metadata": {},
   "outputs": [],
   "source": [
    "regr = LinearRegression().fit(features, target)\n",
    "fitted_vals = regr.predict(features)\n",
    "\n",
    "MSE = mean_squared_error(target, fitted_vals)\n",
    "RMSE = np.sqrt(MSE)"
   ]
  },
  {
   "cell_type": "code",
   "execution_count": 38,
   "id": "49c82029",
   "metadata": {},
   "outputs": [],
   "source": [
    "def get_log_estimate(nr_rooms, students_per_classroom, next_to_river=False, high_confidence=True):\n",
    "    # Configure Property\n",
    "    property_stats[0][RM_IDX] = nr_rooms\n",
    "    property_stats[0][PTRATIO_IDX] = students_per_classroom\n",
    "    \n",
    "    if next_to_river:\n",
    "        property_stats[0][CHAS_IDX] = 1\n",
    "    else:\n",
    "        property_stats[0][CHAS_IDX] = 0\n",
    "    \n",
    "    # Make Prediction\n",
    "    log_estimate = regr.predict(property_stats)[0][0]\n",
    "    \n",
    "    \n",
    "    if high_confidence:\n",
    "        upper_bound = log_estimate + 2*RMSE\n",
    "        lower_bound = log_estimate - 2*RMSE\n",
    "        interval = 95\n",
    "    else:\n",
    "        upper_bound = log_estimate + RMSE\n",
    "        lower_bound = log_estimate - RMSE\n",
    "        interval = 68\n",
    "    \n",
    "    \n",
    "    return log_estimate, upper_bound, lower_bound, interval"
   ]
  },
  {
   "cell_type": "code",
   "execution_count": 39,
   "id": "32b5a719",
   "metadata": {},
   "outputs": [
    {
     "data": {
      "text/plain": [
       "(2.6716097430689416, 2.859121878266072, 2.4840976078718113, 68)"
      ]
     },
     "execution_count": 39,
     "metadata": {},
     "output_type": "execute_result"
    }
   ],
   "source": [
    "get_log_estimate(3,20, next_to_river=False, high_confidence=False)"
   ]
  },
  {
   "cell_type": "markdown",
   "id": "e3f259b6",
   "metadata": {},
   "source": [
    "## Challange program to check prime numbers"
   ]
  },
  {
   "cell_type": "code",
   "execution_count": 40,
   "id": "74705820",
   "metadata": {},
   "outputs": [
    {
     "name": "stdout",
     "output_type": "stream",
     "text": [
      "It is Not a prime number 98\n"
     ]
    }
   ],
   "source": [
    "def is_it_prime(n):\n",
    "    #TODO: Write your code here.\n",
    "    if(n>1):\n",
    "        for i in range(2, n, 1):\n",
    "            if(n%i)==0:\n",
    "                print('It is Not a prime number', n)\n",
    "                break\n",
    "            else:\n",
    "                if(n-1==i):\n",
    "                    print(\"It is a Prime number\")\n",
    "                    break\n",
    "    else:\n",
    "        print('Number is less than 1.')\n",
    "        \n",
    "is_it_prime(98)"
   ]
  },
  {
   "cell_type": "code",
   "execution_count": 41,
   "id": "2666aebb",
   "metadata": {},
   "outputs": [
    {
     "data": {
      "text/plain": [
       "21.2"
      ]
     },
     "execution_count": 41,
     "metadata": {},
     "output_type": "execute_result"
    }
   ],
   "source": [
    "np.median(boston_dataset.target)"
   ]
  },
  {
   "cell_type": "code",
   "execution_count": 60,
   "id": "b5ea0879",
   "metadata": {},
   "outputs": [
    {
     "name": "stdout",
     "output_type": "stream",
     "text": [
      "The estimated property value is 827000.0.\n",
      "At 68% confidence the valuation range is\n",
      "USD 685000.0 at the lower end to USD 997000.0 at the high end.\n"
     ]
    }
   ],
   "source": [
    "# Challange # Challange # Challange\n",
    "# Conversion of dollars to today's value\n",
    "\n",
    "Zillow_Median_Price = 583.3\n",
    "Scale_Factor = Zillow_Median_Price/np.median(boston_dataset.target)\n",
    "\n",
    "log_est, upper, lower, conf = get_log_estimate(9, students_per_classroom=15, next_to_river=False, high_confidence=False)\n",
    "\n",
    "dollar_est = np.e**log_est * 1000 * Scale_Factor\n",
    "dollar_hi = np.e**upper * 1000 * Scale_Factor\n",
    "dollar_low = np.e**lower * 1000 * Scale_Factor\n",
    "\n",
    "\n",
    "# Round the dollar values to nearest thousand.\n",
    "\n",
    "rounded_est = np.around(dollar_est, -3)\n",
    "rounded_hi = np.around(dollar_hi, -3)\n",
    "rounded_low = np.around(dollar_low, -3)\n",
    "\n",
    "print(f'The estimated property value is {rounded_est}.')\n",
    "print(f'At {conf}% confidence the valuation range is')\n",
    "print(f'USD {rounded_low} at the lower end to USD {rounded_hi} at the high end.')"
   ]
  },
  {
   "cell_type": "code",
   "execution_count": 73,
   "id": "d6b96147",
   "metadata": {},
   "outputs": [],
   "source": [
    "def get_dollar_estimate(rm, ptratio, chas= False, large_range=True):   \n",
    "    \"\"\"Estimate the price of a property in Boston.\n",
    "    \n",
    "    Keyword arguments:\n",
    "    rm -- number of rooms in the property\n",
    "    ptratio -- number of the students per teacher in the classroom for the school in the area\n",
    "    chas -- True if the property is next to the river, False otherwise.\n",
    "    large_range -- True for a 95% prediction interval and False for a 68% interval.\n",
    "    \n",
    "    \"\"\"\n",
    "    \n",
    "    \n",
    "    if rm < 1 or ptratio < 1:\n",
    "        print('That is unrealistic. Try again.')\n",
    "        return\n",
    "    \n",
    "    log_est, upper, lower, conf = get_log_estimate(rm, ptratio, next_to_river=chas, high_confidence=large_range)\n",
    "    \n",
    "    dollar_est = np.e**log_est * 1000 * Scale_Factor\n",
    "    dollar_hi = np.e**upper * 1000 * Scale_Factor\n",
    "    dollar_low = np.e**lower * 1000 * Scale_Factor\n",
    "\n",
    "\n",
    "    # Round the dollar values to nearest thousand.\n",
    "\n",
    "    rounded_est = np.around(dollar_est, -3)\n",
    "    rounded_hi = np.around(dollar_hi, -3)\n",
    "    rounded_low = np.around(dollar_low, -3)\n",
    "\n",
    "    print(f'The estimated property value is {rounded_est}.')\n",
    "    print(f'At {conf}% confidence the valuation range is')\n",
    "    print(f'USD {rounded_low} at the lower end to USD {rounded_hi} at the high end.')"
   ]
  },
  {
   "cell_type": "code",
   "execution_count": 71,
   "id": "b3741a00",
   "metadata": {},
   "outputs": [
    {
     "name": "stdout",
     "output_type": "stream",
     "text": [
      "The estimated property value is 130000.0.\n",
      "At 95% confidence the valuation range is\n",
      "USD 89000.0 at the lower end to USD 189000.0 at the high end.\n"
     ]
    }
   ],
   "source": [
    "get_dollar_estimate(rm=6, ptratio=60, chas=True)"
   ]
  },
  {
   "cell_type": "code",
   "execution_count": 78,
   "id": "949fa83b",
   "metadata": {},
   "outputs": [
    {
     "name": "stdout",
     "output_type": "stream",
     "text": [
      "The estimated property value is 783000.0.\n",
      "At 95% confidence the valuation range is\n",
      "USD 538000.0 at the lower end to USD 1139000.0 at the high end.\n"
     ]
    }
   ],
   "source": [
    "import boston_valuation as val\n",
    "val.get_dollar_estimate(6,12,True)"
   ]
  },
  {
   "cell_type": "code",
   "execution_count": null,
   "id": "319c42e6",
   "metadata": {},
   "outputs": [],
   "source": []
  },
  {
   "cell_type": "code",
   "execution_count": null,
   "id": "a9f1e599",
   "metadata": {},
   "outputs": [],
   "source": []
  }
 ],
 "metadata": {
  "kernelspec": {
   "display_name": "Python 3 (ipykernel)",
   "language": "python",
   "name": "python3"
  },
  "language_info": {
   "codemirror_mode": {
    "name": "ipython",
    "version": 3
   },
   "file_extension": ".py",
   "mimetype": "text/x-python",
   "name": "python",
   "nbconvert_exporter": "python",
   "pygments_lexer": "ipython3",
   "version": "3.9.7"
  }
 },
 "nbformat": 4,
 "nbformat_minor": 5
}
